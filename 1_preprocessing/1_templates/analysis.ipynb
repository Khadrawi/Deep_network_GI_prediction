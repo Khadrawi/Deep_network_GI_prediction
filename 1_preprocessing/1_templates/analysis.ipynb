{
 "cells": [
  {
   "cell_type": "markdown",
   "id": "71f6375b-38e6-42d9-9463-d51c20175c4f",
   "metadata": {
    "papermill": {
     "duration": 0.005869,
     "end_time": "2022-08-31T15:34:09.597068",
     "exception": false,
     "start_time": "2022-08-31T15:34:09.591199",
     "status": "completed"
    },
    "tags": []
   },
   "source": [
    "# Load modules"
   ]
  },
  {
   "cell_type": "code",
   "execution_count": null,
   "id": "b1ef453c-601a-4382-86c0-2f3985507452",
   "metadata": {
    "papermill": {
     "duration": 0.419456,
     "end_time": "2022-08-31T15:34:10.021691",
     "exception": false,
     "start_time": "2022-08-31T15:34:09.602235",
     "status": "completed"
    },
    "tags": []
   },
   "outputs": [],
   "source": [
    "# load modules\n",
    "from rich import print\n",
    "import pandas as pd\n",
    "import seaborn as sns\n",
    "import matplotlib.pyplot as plt\n",
    "import numpy as np\n",
    "# from directory_structure import Tree\n",
    "import sys, os\n",
    "import os.path as path\n",
    "import glob\n",
    "import re\n",
    "import pickle\n",
    "\n",
    "modules = path.abspath(path.join(os.getcwd(), \"helpers\"))\n",
    "print(modules)\n",
    "sys.path.insert(0, modules)\n",
    "\n",
    "from import_files import *\n",
    "from preprocessing import *\n",
    "from plotting import *\n",
    "\n",
    "%matplotlib inline"
   ]
  },
  {
   "cell_type": "markdown",
   "id": "4218d64f-6605-4c8b-8adc-54c815571db6",
   "metadata": {
    "papermill": {
     "duration": 0.005936,
     "end_time": "2022-08-31T15:34:10.034664",
     "exception": false,
     "start_time": "2022-08-31T15:34:10.028728",
     "status": "completed"
    },
    "tags": []
   },
   "source": [
    "# Load data, rename columns, save/load to pickles to increase speed (and remove channels)"
   ]
  },
  {
   "cell_type": "code",
   "execution_count": null,
   "id": "f9ed2595-cdcc-42c0-9326-7db106d2496a",
   "metadata": {
    "papermill": {
     "duration": 0.283182,
     "end_time": "2022-08-31T15:34:10.323721",
     "exception": false,
     "start_time": "2022-08-31T15:34:10.040539",
     "status": "completed"
    },
    "tags": []
   },
   "outputs": [],
   "source": [
    "# get list of files and pickles\n",
    "####################################\n",
    "\n",
    "file_lst = glob.glob(\"Data/\" + animal + \"/*.txt\")\n",
    "print(file_lst)\n",
    "\n",
    "pickle_lst = glob.glob(\"pickles/\" + animal + \"*.pckl\")\n",
    "print(pickle_lst)\n",
    "\n",
    "# make df names\n",
    "####################################\n",
    "\n",
    "df_name_lst = []\n",
    "for x in file_lst:\n",
    "    if 'eed' in x:\n",
    "        df_name_lst.append('df_feed')\n",
    "    if 'ase' in x:\n",
    "        df_name_lst.append('df_base')\n",
    "\n",
    "# load pickles or make pickles\n",
    "####################################\n",
    "\n",
    "if len(file_lst) == len(pickle_lst):\n",
    "    print(\"import pickles\")\n",
    "    for x, y in zip(pickle_lst, df_name_lst):\n",
    "        print(y)\n",
    "        df_x = Import.open_pickle(x)\n",
    "        exec(y + \" = df_x\")\n",
    "        print()\n",
    "else:\n",
    "    print(\"import CSVs and make pickles\")\n",
    "    for x, y in zip(file_lst, df_name_lst):\n",
    "        print(y)\n",
    "        df_x = Import.csv_import_to_pandas(file_path=x, df_name=y, print_df=False)\n",
    "        df_x.columns = col_names\n",
    "        # drop channel\n",
    "        df_x = df_x[chan_to_keep]\n",
    "        print(df_x)\n",
    "        # store pickle\n",
    "        # create directory if it does not exist\n",
    "        file_path = 'pickles/'\n",
    "        if not os.path.exists(file_path):\n",
    "            os.mkdir(file_path)\n",
    "        Import.store_pickle(obj=df_x, file_path='pickles/' + animal + '_' + y +'.pckl')\n",
    "        exec(y + \" = df_x\")\n",
    "        print()"
   ]
  },
  {
   "cell_type": "markdown",
   "id": "de146c37-92d4-464d-b726-707eab399aea",
   "metadata": {
    "papermill": {
     "duration": 0.007046,
     "end_time": "2022-08-31T15:34:10.337915",
     "exception": false,
     "start_time": "2022-08-31T15:34:10.330869",
     "status": "completed"
    },
    "tags": []
   },
   "source": [
    "## Determine percentage missing values"
   ]
  },
  {
   "cell_type": "code",
   "execution_count": null,
   "id": "33694937-b28b-4f5e-b612-3b744ac63db2",
   "metadata": {
    "papermill": {
     "duration": 0.143225,
     "end_time": "2022-08-31T15:34:10.488029",
     "exception": false,
     "start_time": "2022-08-31T15:34:10.344804",
     "status": "completed"
    },
    "tags": []
   },
   "outputs": [],
   "source": [
    "for x in df_name_lst:\n",
    "    print(x)\n",
    "    df1 = locals()[x]\n",
    "    nans_lst, zeros_lst = Preprocessing.percent_nans_zeros_tolist(df=df1)\n",
    "    print('nans')\n",
    "    print(nans_lst[1:])\n",
    "    print('zeros')\n",
    "    print(zeros_lst[1:])\n",
    "    print('#####################')\n",
    "    print()"
   ]
  },
  {
   "cell_type": "markdown",
   "id": "9096304d-0cf8-438a-8f88-937d6ed116d1",
   "metadata": {
    "papermill": {
     "duration": 0.008507,
     "end_time": "2022-08-31T15:34:10.505281",
     "exception": false,
     "start_time": "2022-08-31T15:34:10.496774",
     "status": "completed"
    },
    "tags": []
   },
   "source": [
    "# Downsample after applying anti-aliasing filter"
   ]
  },
  {
   "cell_type": "code",
   "execution_count": null,
   "id": "6dd90ac3-a25a-4ddd-814d-d9fbd24c1aa8",
   "metadata": {
    "papermill": {
     "duration": 1.415649,
     "end_time": "2022-08-31T15:34:11.929401",
     "exception": false,
     "start_time": "2022-08-31T15:34:10.513752",
     "status": "completed"
    },
    "tags": []
   },
   "outputs": [],
   "source": [
    "factor = int(original_sample_freq / new_sample_freq)\n",
    "print(factor)\n",
    "\n",
    "for x in df_name_lst:\n",
    "\n",
    "    df1 = locals()[x]\n",
    "\n",
    "    # get df with time values\n",
    "    df_x = df1.iloc[::factor, :].time\n",
    "    df_x.reset_index(drop=True, inplace=True)\n",
    "    df_x = pd.DataFrame(df_x)\n",
    "\n",
    "    for y in chan_to_keep[1:]:    \n",
    "        arr = Preprocessing.downsample_with_anti_aliasing(arr=df1[y], factor=factor, ftype='iir')\n",
    "        df_x[y] = arr.tolist()\n",
    "\n",
    "    exec(x + \" = df_x\")\n",
    "    print(df_x)"
   ]
  },
  {
   "cell_type": "markdown",
   "id": "0cd5dfbc-1347-4b35-a3e8-b6b106c93092",
   "metadata": {
    "papermill": {
     "duration": 0.013671,
     "end_time": "2022-08-31T15:34:11.952878",
     "exception": false,
     "start_time": "2022-08-31T15:34:11.939207",
     "status": "completed"
    },
    "tags": []
   },
   "source": [
    "## Determine percentage missing values"
   ]
  },
  {
   "cell_type": "code",
   "execution_count": null,
   "id": "266170d9-8c29-479c-84fb-bab758a7bcb2",
   "metadata": {
    "papermill": {
     "duration": 0.048075,
     "end_time": "2022-08-31T15:34:12.010288",
     "exception": false,
     "start_time": "2022-08-31T15:34:11.962213",
     "status": "completed"
    },
    "tags": []
   },
   "outputs": [],
   "source": [
    "for x in df_name_lst:\n",
    "    print(x)\n",
    "    df1 = locals()[x]\n",
    "    nans_lst, zeros_lst = Preprocessing.percent_nans_zeros_tolist(df=df1)\n",
    "    print('nans')\n",
    "    print(nans_lst[1:])\n",
    "    print('zeros')\n",
    "    print(zeros_lst[1:])\n",
    "    print('#####################')\n",
    "    print()"
   ]
  },
  {
   "cell_type": "markdown",
   "id": "4327bf47-2e55-482d-965a-2a27b4679f4e",
   "metadata": {
    "papermill": {
     "duration": 0.009493,
     "end_time": "2022-08-31T15:34:12.031192",
     "exception": false,
     "start_time": "2022-08-31T15:34:12.021699",
     "status": "completed"
    },
    "tags": []
   },
   "source": [
    "# Remove dropped packets (errors in the hardware recording)"
   ]
  },
  {
   "cell_type": "code",
   "execution_count": null,
   "id": "7fdd46fe-6cdc-4c09-984a-ea16c0475296",
   "metadata": {
    "papermill": {
     "duration": 0.041495,
     "end_time": "2022-08-31T15:34:12.079317",
     "exception": false,
     "start_time": "2022-08-31T15:34:12.037822",
     "status": "completed"
    },
    "tags": []
   },
   "outputs": [],
   "source": [
    "if use_dropped_packet_removal:\n",
    "    \n",
    "    df_packet_drop = pd.DataFrame()\n",
    "    \n",
    "    removed_pct_lst = []\n",
    "    cond_lst = []\n",
    "    chan_lst = []\n",
    "\n",
    "    for x in df_name_lst:\n",
    " \n",
    "        df_x = locals()[x]\n",
    "        \n",
    "        for y in chan_to_keep[1:]:\n",
    "\n",
    "            df_x[y], removed_pct = Preprocessing.remove_dropped_packets_zerofill(arr=df_x[y], thres=100000)\n",
    "            removed_pct_lst.append(removed_pct)\n",
    "            cond_lst.append(x)\n",
    "            chan_lst.append(y)\n",
    "            \n",
    "        exec(x + ' = df_x')\n",
    " \n",
    "    df_packet_drop['cond'] = cond_lst\n",
    "    df_packet_drop['chan'] = chan_lst\n",
    "    df_packet_drop['removed_pct'] = removed_pct_lst\n",
    "    \n",
    "    print(df_packet_drop)"
   ]
  },
  {
   "cell_type": "markdown",
   "id": "15f44618-93fc-461e-bb39-1924038dccf3",
   "metadata": {
    "papermill": {
     "duration": 0.006803,
     "end_time": "2022-08-31T15:34:12.093281",
     "exception": false,
     "start_time": "2022-08-31T15:34:12.086478",
     "status": "completed"
    },
    "tags": []
   },
   "source": [
    "## Determine percentage missing values"
   ]
  },
  {
   "cell_type": "code",
   "execution_count": null,
   "id": "c32d2517-f139-4a68-8177-6e7b642e09f2",
   "metadata": {
    "papermill": {
     "duration": 0.035176,
     "end_time": "2022-08-31T15:34:12.135180",
     "exception": false,
     "start_time": "2022-08-31T15:34:12.100004",
     "status": "completed"
    },
    "tags": []
   },
   "outputs": [],
   "source": [
    "for x in df_name_lst:\n",
    "    print(x)\n",
    "    df1 = locals()[x]\n",
    "    nans_lst, zeros_lst = Preprocessing.percent_nans_zeros_tolist(df=df1)\n",
    "    print('nans')\n",
    "    print(nans_lst[1:])\n",
    "    print('zeros')\n",
    "    print(zeros_lst[1:])\n",
    "    print('#####################')\n",
    "    print()"
   ]
  },
  {
   "cell_type": "markdown",
   "id": "1d886ca7-b4af-470c-b947-c07cfc9218b4",
   "metadata": {
    "papermill": {
     "duration": 0.007697,
     "end_time": "2022-08-31T15:34:12.150951",
     "exception": false,
     "start_time": "2022-08-31T15:34:12.143254",
     "status": "completed"
    },
    "tags": []
   },
   "source": [
    "# Plot raw signals"
   ]
  },
  {
   "cell_type": "code",
   "execution_count": null,
   "id": "36a5603b-2e93-4768-af5c-d9951ec67907",
   "metadata": {
    "papermill": {
     "duration": 1.02589,
     "end_time": "2022-08-31T15:34:13.184481",
     "exception": false,
     "start_time": "2022-08-31T15:34:12.158591",
     "status": "completed"
    },
    "tags": []
   },
   "outputs": [],
   "source": [
    "for x in chan_to_keep[1:]:\n",
    "    plt.figure(figsize=(15,5))\n",
    "    plt.title(x)\n",
    "    plt.plot(df_base['time'], df_base[x], label='base')\n",
    "    plt.plot(df_feed['time'], df_feed[x], label='feed')\n",
    "    plt.legend(loc='upper right')"
   ]
  },
  {
   "cell_type": "markdown",
   "id": "60add7f5-fd7a-450c-b80d-0b2c55f536a0",
   "metadata": {
    "papermill": {
     "duration": 0.014343,
     "end_time": "2022-08-31T15:34:13.213722",
     "exception": false,
     "start_time": "2022-08-31T15:34:13.199379",
     "status": "completed"
    },
    "tags": []
   },
   "source": [
    "# Apply filters"
   ]
  },
  {
   "cell_type": "markdown",
   "id": "eef7d37e-40ba-4177-91d8-b2dfff169553",
   "metadata": {
    "papermill": {
     "duration": 0.008671,
     "end_time": "2022-08-31T15:34:13.235529",
     "exception": false,
     "start_time": "2022-08-31T15:34:13.226858",
     "status": "completed"
    },
    "tags": []
   },
   "source": [
    "## If band pass"
   ]
  },
  {
   "cell_type": "code",
   "execution_count": null,
   "id": "5d97dc53-cc74-4df3-a49c-3804c97685ae",
   "metadata": {
    "papermill": {
     "duration": 1.013865,
     "end_time": "2022-08-31T15:34:14.258074",
     "exception": false,
     "start_time": "2022-08-31T15:34:13.244209",
     "status": "completed"
    },
    "tags": []
   },
   "outputs": [],
   "source": [
    "if filter_type == 'bandpass':\n",
    "    \n",
    "    for x in df_name_lst:\n",
    "        df_x = locals()[x]\n",
    "        for y in chan_to_keep[1:]:\n",
    "            df_x[y] = Preprocessing.bandpass_butter_filter(arr=df_x[y], order=2, sample_freq=new_sample_freq, \n",
    "                                                           lowcut=lo_cutoff, highcut=hi_cutoff)\n",
    "        exec(x + ' = df_x')\n",
    "\n",
    "    for x in chan_to_keep[1:]:\n",
    "        plt.figure(figsize=(15,5))\n",
    "        plt.title(x)\n",
    "        plt.plot(df_base['time'], df_base[x], label='base')\n",
    "        plt.plot(df_feed['time'], df_feed[x], label='feed')\n",
    "        plt.legend(loc='upper right')"
   ]
  },
  {
   "cell_type": "markdown",
   "id": "4456af2b-2029-49fe-a1c8-c63a716d3075",
   "metadata": {
    "papermill": {
     "duration": 0.016667,
     "end_time": "2022-08-31T15:34:14.291852",
     "exception": false,
     "start_time": "2022-08-31T15:34:14.275185",
     "status": "completed"
    },
    "tags": []
   },
   "source": [
    "## If high pass"
   ]
  },
  {
   "cell_type": "code",
   "execution_count": null,
   "id": "a642e148-f149-44e5-a252-95487294c5e2",
   "metadata": {
    "papermill": {
     "duration": 0.016999,
     "end_time": "2022-08-31T15:34:14.321083",
     "exception": false,
     "start_time": "2022-08-31T15:34:14.304084",
     "status": "completed"
    },
    "tags": []
   },
   "outputs": [],
   "source": [
    "if (filter_type == 'butter_high_low') or (filter_type == 'butter_high_savgol_low') or (filter_type == 'butter_high_only'):\n",
    "    \n",
    "    for x in df_name_lst:\n",
    "        df_x = locals()[x]\n",
    "        for y in chan_to_keep[1:]:\n",
    "            df_x[y] = Preprocessing.highpass_butter_filter(arr=df_x[y], order=2, sample_freq=new_sample_freq, cutoff_freq=lo_cutoff)\n",
    "        exec(x + ' = df_x')\n",
    "\n",
    "    for x in chan_to_keep[1:]:\n",
    "        plt.figure(figsize=(15,5))\n",
    "        plt.title(x)\n",
    "        plt.plot(df_base['time'], df_base[x], label='base')\n",
    "        plt.plot(df_feed['time'], df_feed[x], label='feed')\n",
    "        plt.legend(loc='upper right')"
   ]
  },
  {
   "cell_type": "markdown",
   "id": "a2d43926-21f6-475a-9ded-d4f9e78833c8",
   "metadata": {
    "papermill": {
     "duration": 0.010352,
     "end_time": "2022-08-31T15:34:14.341713",
     "exception": false,
     "start_time": "2022-08-31T15:34:14.331361",
     "status": "completed"
    },
    "tags": []
   },
   "source": [
    "## If low pass"
   ]
  },
  {
   "cell_type": "code",
   "execution_count": null,
   "id": "f0018bfa-1ee2-4928-9575-0ee0065f8bea",
   "metadata": {
    "papermill": {
     "duration": 0.017582,
     "end_time": "2022-08-31T15:34:14.369653",
     "exception": false,
     "start_time": "2022-08-31T15:34:14.352071",
     "status": "completed"
    },
    "tags": []
   },
   "outputs": [],
   "source": [
    "if filter_type == 'butter_high_low':\n",
    "        \n",
    "    for x in df_name_lst:\n",
    "        df_x = locals()[x]\n",
    "        for y in chan_to_keep[1:]:\n",
    "            df_x[y] = Preprocessing.lowpass_butter_filter(arr=df_x[y], order=2, sample_freq=new_sample_freq, \n",
    "                                                           cutoff_freq=hi_cutoff)\n",
    "        exec(x + ' = df_x')\n",
    "        \n",
    "    for x in chan_to_keep[1:]:\n",
    "        plt.figure(figsize=(15,5))\n",
    "        plt.title(x)\n",
    "        plt.plot(df_base['time'], df_base[x], label='base')\n",
    "        plt.plot(df_feed['time'], df_feed[x], label='feed')\n",
    "        plt.legend(loc='upper right')\n",
    "\n",
    "if filter_type == 'butter_high_savgol_low':\n",
    "            \n",
    "    for x in df_name_lst:\n",
    "        df_x = locals()[x]\n",
    "        for y in chan_to_keep[1:]:\n",
    "            arr = Preprocessing.savitzky_golay_filter(arr=df_x[y].values, win_len=sg_len, order=sg_order)\n",
    "            df_x[y] = pd.Series(arr)\n",
    "        exec(x + ' = df_x')\n",
    "\n",
    "    for x in col_names[1:]:\n",
    "        plt.figure(figsize=(15,5))\n",
    "        plt.title(x)\n",
    "        plt.plot(df_base['time'], df_base[x], label='base')\n",
    "        plt.plot(df_feed['time'], df_feed[x], label='feed')\n",
    "        plt.legend(loc='upper right')"
   ]
  },
  {
   "cell_type": "markdown",
   "id": "72314a2f-3f9c-48ff-894e-e70030632ad4",
   "metadata": {
    "papermill": {
     "duration": 0.006803,
     "end_time": "2022-08-31T15:34:12.093281",
     "exception": false,
     "start_time": "2022-08-31T15:34:12.086478",
     "status": "completed"
    },
    "tags": []
   },
   "source": [
    "## Determine percentage missing values"
   ]
  },
  {
   "cell_type": "code",
   "execution_count": null,
   "id": "9d4c5716-edcb-46f6-8c67-bfc2c12ff4e5",
   "metadata": {
    "papermill": {
     "duration": 0.035176,
     "end_time": "2022-08-31T15:34:12.135180",
     "exception": false,
     "start_time": "2022-08-31T15:34:12.100004",
     "status": "completed"
    },
    "tags": []
   },
   "outputs": [],
   "source": [
    "for x in df_name_lst:\n",
    "    print(x)\n",
    "    df1 = locals()[x]\n",
    "    nans_lst, zeros_lst = Preprocessing.percent_nans_zeros_tolist(df=df1)\n",
    "    print('nans')\n",
    "    print(nans_lst[1:])\n",
    "    print('zeros')\n",
    "    print(zeros_lst[1:])\n",
    "    print('#####################')\n",
    "    print()"
   ]
  },
  {
   "cell_type": "markdown",
   "id": "b1dc058e-7511-4387-835e-4ef2e884b4cc",
   "metadata": {
    "papermill": {
     "duration": 0.010365,
     "end_time": "2022-08-31T15:34:14.390444",
     "exception": false,
     "start_time": "2022-08-31T15:34:14.380079",
     "status": "completed"
    },
    "tags": []
   },
   "source": [
    "# Artifact removal > 2 mV"
   ]
  },
  {
   "cell_type": "code",
   "execution_count": null,
   "id": "239d172e-b1be-4fa2-be12-4ef3aca5683c",
   "metadata": {
    "papermill": {
     "duration": 2.252947,
     "end_time": "2022-08-31T15:34:16.653708",
     "exception": false,
     "start_time": "2022-08-31T15:34:14.400761",
     "status": "completed"
    },
    "tags": []
   },
   "outputs": [],
   "source": [
    "if use_artifact_removal:\n",
    "    \n",
    "    df_artifact_remove = pd.DataFrame()\n",
    "    \n",
    "    removed_pct_lst = []\n",
    "    cond_lst = []\n",
    "    chan_lst = []\n",
    "\n",
    "    for x in df_name_lst:\n",
    " \n",
    "        df_x = locals()[x]\n",
    "        \n",
    "        for y in chan_to_keep[1:]:\n",
    "            \n",
    "            # apply filter\n",
    "            df_x[y], removed_pct = Preprocessing.artifacts_removal(arr=df_x[y], thres=2000, \n",
    "                                                                   pts_pre=pre_post_pts, \n",
    "                                                                   pts_post=pre_post_pts, \n",
    "                                                                   interpolate=True,\n",
    "                                                                   fill_frontend=fill_frontend)\n",
    "            removed_pct_lst.append(removed_pct)\n",
    "            cond_lst.append(x)\n",
    "            chan_lst.append(y)\n",
    "        print(df_x)   \n",
    "        exec(x + ' = df_x')\n",
    " \n",
    "    df_artifact_remove['cond'] = cond_lst\n",
    "    df_artifact_remove['chan'] = chan_lst\n",
    "    df_artifact_remove['removed_pct'] = removed_pct_lst\n",
    "    \n",
    "    print(df_artifact_remove)\n",
    "\n",
    "    for x in chan_to_keep[1:]:\n",
    "        plt.figure(figsize=(15,5))\n",
    "        plt.plot(df_base['time'], df_base[x], label='base')\n",
    "        plt.plot(df_feed['time'], df_feed[x], label='feed')\n",
    "        plt.legend(loc='upper right')"
   ]
  },
  {
   "cell_type": "markdown",
   "id": "b88d7e07-f608-4f02-a61d-5da53268e9c1",
   "metadata": {
    "papermill": {
     "duration": 0.01946,
     "end_time": "2022-08-31T15:34:16.693804",
     "exception": false,
     "start_time": "2022-08-31T15:34:16.674344",
     "status": "completed"
    },
    "tags": []
   },
   "source": [
    "## Determine percentage missing values"
   ]
  },
  {
   "cell_type": "code",
   "execution_count": null,
   "id": "63f18c04-64fe-41c9-ac74-1eef0b6e5cad",
   "metadata": {
    "papermill": {
     "duration": 0.042205,
     "end_time": "2022-08-31T15:34:16.748187",
     "exception": false,
     "start_time": "2022-08-31T15:34:16.705982",
     "status": "completed"
    },
    "tags": []
   },
   "outputs": [],
   "source": [
    "for x in df_name_lst:\n",
    "    print(x)\n",
    "    df1 = locals()[x]\n",
    "    nans_lst, zeros_lst = Preprocessing.percent_nans_zeros_tolist(df=df1)\n",
    "    print('nans')\n",
    "    print(nans_lst[1:])\n",
    "    print('zeros')\n",
    "    print(zeros_lst[1:])\n",
    "    print('#####################')\n",
    "    print()"
   ]
  },
  {
   "cell_type": "markdown",
   "id": "e2352e9d-c4a5-44f0-9795-41c6bd747d2a",
   "metadata": {
    "papermill": {
     "duration": 0.013545,
     "end_time": "2022-08-31T15:34:16.775444",
     "exception": false,
     "start_time": "2022-08-31T15:34:16.761899",
     "status": "completed"
    },
    "tags": []
   },
   "source": [
    "# Plots: power spectral density (from 3 to 15 cpm)"
   ]
  },
  {
   "cell_type": "code",
   "execution_count": null,
   "id": "63ce67ed-1fe4-410e-99a3-f302d7703943",
   "metadata": {
    "papermill": {
     "duration": 2.145713,
     "end_time": "2022-08-31T15:34:18.934398",
     "exception": false,
     "start_time": "2022-08-31T15:34:16.788685",
     "status": "completed"
    },
    "tags": []
   },
   "outputs": [],
   "source": [
    "df_summary = pd.DataFrame()\n",
    "\n",
    "for x in df_name_lst:\n",
    "    \n",
    "    print(x)\n",
    "\n",
    "    df_x = locals()[x]\n",
    "    \n",
    "    for y in chan_to_keep[1:]:\n",
    "        df_final = Plotting.psd(df_x[y], fs=new_sample_freq, xlim=[0,0.25], units='V', title=y, \n",
    "                                tot_pwr_lst=[0.05, 0.25], brad_pwr_lst=[0.05, 0.127], norm_pwr_lst=[0.127, 0.19], tach_pwr_lst=[0.19, 0.25])\n",
    "        df_final['cond'] = x\n",
    "        df_final['chan'] = y\n",
    "        df_summary = pd.concat([df_summary, df_final])\n",
    "    exec(x + '_summary = df_summary')\n",
    "\n",
    "# change the order of columns and drop a column\n",
    "df_summary = df_summary[['cond', 'chan', 'tot_power', 'brad_power', 'norm_power', 'tach_power', 'brad_domf', 'norm_domf', 'tach_domf']]\n",
    "    \n",
    "print(df_summary)\n",
    "\n",
    "print('#########################################################')\n",
    "print()"
   ]
  },
  {
   "cell_type": "markdown",
   "id": "c5572114-c887-411b-a62e-a639fa8dc904",
   "metadata": {
    "papermill": {
     "duration": 0.021628,
     "end_time": "2022-08-31T15:34:18.985619",
     "exception": false,
     "start_time": "2022-08-31T15:34:18.963991",
     "status": "completed"
    },
    "tags": []
   },
   "source": [
    "# Plot spectrograms"
   ]
  },
  {
   "cell_type": "code",
   "execution_count": null,
   "id": "1e275d42-f31d-4b6a-a0c9-9ae089d2d690",
   "metadata": {
    "papermill": {
     "duration": 1.24055,
     "end_time": "2022-08-31T15:34:20.244409",
     "exception": false,
     "start_time": "2022-08-31T15:34:19.003859",
     "status": "completed"
    },
    "tags": []
   },
   "outputs": [],
   "source": [
    "for x in df_name_lst:\n",
    "    \n",
    "    print(x)\n",
    "\n",
    "    df_x = locals()[x]\n",
    "    \n",
    "    for y in chan_to_keep[1:]:\n",
    "        Plotting.spect(arr=df_x[y], sample_freq=new_sample_freq, y_max_freq=1.5*hi_cutoff, plot_title=y)\n",
    "        \n",
    "    print('#########################################################')\n",
    "    print()"
   ]
  },
  {
   "cell_type": "markdown",
   "id": "df7c45c8-fa1c-4317-ba87-ddff64bcf4ab",
   "metadata": {
    "papermill": {
     "duration": 0.023962,
     "end_time": "2022-08-31T15:34:20.302341",
     "exception": false,
     "start_time": "2022-08-31T15:34:20.278379",
     "status": "completed"
    },
    "tags": []
   },
   "source": [
    "# make summary table"
   ]
  },
  {
   "cell_type": "code",
   "execution_count": null,
   "id": "e83ab216-0804-4535-926b-1960032093fa",
   "metadata": {
    "papermill": {
     "duration": 0.044564,
     "end_time": "2022-08-31T15:34:20.368308",
     "exception": false,
     "start_time": "2022-08-31T15:34:20.323744",
     "status": "completed"
    },
    "tags": []
   },
   "outputs": [],
   "source": [
    "# use deep = true to make sure that original will not be changed when modifying copy\n",
    "df_copy = df_summary.copy(deep=True)\n",
    "\n",
    "# add columns\n",
    "df_copy['packet_remove_pct'] = df_packet_drop['removed_pct'].values\n",
    "df_copy['art_remove_pct'] = df_artifact_remove['removed_pct'].values\n",
    "df_copy['animal'] = pd.Series(animal, index=df_copy.index)\n",
    "df_copy['new_sample_freq'] = pd.Series(new_sample_freq, index=df_copy.index)\n",
    "df_copy['filter_type'] = pd.Series(filter_type, index=df_copy.index)\n",
    "df_copy['lo_cutoff'] = pd.Series(lo_cutoff, index=df_copy.index)\n",
    "df_copy['hi_cutoff'] = pd.Series(hi_cutoff, index=df_copy.index)\n",
    "df_copy['remove_drop_packs'] = pd.Series(use_dropped_packet_removal, index=df_copy.index)\n",
    "df_copy['remove_artifact'] = pd.Series(use_artifact_removal, index=df_copy.index)\n",
    "\n",
    "# reorder columns\n",
    "df_copy = df_copy[['animal', 'cond', 'chan', 'new_sample_freq', 'filter_type', 'lo_cutoff', 'hi_cutoff', \n",
    "                   'remove_drop_packs', 'remove_artifact', 'tot_power', 'brad_power', \n",
    "                   'norm_power', 'tach_power', 'brad_domf', 'norm_domf', 'tach_domf', 'packet_remove_pct', 'art_remove_pct']]\n",
    "\n",
    "# replace characters\n",
    "df_copy['cond'] = df_copy.cond.str.replace('df_', '')\n",
    "\n",
    "print(df_copy)\n",
    "\n",
    "# Write to file\n",
    "results_file = 'summary.csv'\n",
    "\n",
    "# make a results file\n",
    "if not os.path.exists(results_file):\n",
    "    os.mknod(results_file)\n",
    "    df_copy.to_csv(results_file)  \n",
    "elif os.path.exists(results_file):\n",
    "    df_copy.to_csv(results_file, mode='a', header=False)"
   ]
  },
  {
   "cell_type": "markdown",
   "id": "9987de8e-f0da-479d-8911-a7be5285f862",
   "metadata": {
    "papermill": {
     "duration": 0.021405,
     "end_time": "2022-08-31T15:34:20.411371",
     "exception": false,
     "start_time": "2022-08-31T15:34:20.389966",
     "status": "completed"
    },
    "tags": []
   },
   "source": [
    "# make filtered files"
   ]
  },
  {
   "cell_type": "code",
   "execution_count": null,
   "id": "3fec11d2-fcbe-4b9a-9425-07a9f62c59aa",
   "metadata": {
    "papermill": {
     "duration": 4.598646,
     "end_time": "2022-08-31T15:34:25.031260",
     "exception": false,
     "start_time": "2022-08-31T15:34:20.432614",
     "status": "completed"
    },
    "tags": []
   },
   "outputs": [],
   "source": [
    "if not os.path.exists('final_filt_data'):\n",
    "    os.mkdir('final_filt_data')\n",
    "    \n",
    "for x in df_name_lst:\n",
    "\n",
    "    df_x = locals()[x]    \n",
    "    \n",
    "    # make csv\n",
    "    df_x.to_csv('final_filt_data/' + animal + '_' + x + '.csv', index=False)\n",
    "    \n",
    "    # make pickle\n",
    "    f = open('final_filt_data/' + animal + '_' + x + '.pckl', 'wb')\n",
    "    pickle.dump(df_x, f)\n",
    "    f.close()"
   ]
  }
 ],
 "metadata": {
  "kernelspec": {
   "display_name": "Python 3 (ipykernel)",
   "language": "python",
   "name": "python3"
  },
  "language_info": {
   "codemirror_mode": {
    "name": "ipython",
    "version": 3
   },
   "file_extension": ".py",
   "mimetype": "text/x-python",
   "name": "python",
   "nbconvert_exporter": "python",
   "pygments_lexer": "ipython3",
   "version": "3.8.10"
  },
  "papermill": {
   "default_parameters": {},
   "duration": 16.874166,
   "end_time": "2022-08-31T15:34:25.382323",
   "environment_variables": {},
   "exception": null,
   "input_path": "1_templates/analysis.ipynb",
   "output_path": "Results/103-21_output.ipynb",
   "parameters": {
    "animal": "103-21",
    "chan_to_keep": [
     "time",
     "g1",
     "g2",
     "g3",
     "g4"
    ],
    "col_names": [
     "time",
     "g1",
     "g2",
     "g3",
     "g4",
     "du1",
     "du2"
    ],
    "filter_type": "bandpass",
    "hi_cutoff": 0.7,
    "lo_cutoff": 0.05,
    "new_sample_freq": 200,
    "original_sample_freq": 2000,
    "use_artifact_removal": true,
    "use_dropped_packet_removal": true
   },
   "start_time": "2022-08-31T15:34:08.508157",
   "version": "2.3.4"
  },
  "toc-autonumbering": true
 },
 "nbformat": 4,
 "nbformat_minor": 5
}
