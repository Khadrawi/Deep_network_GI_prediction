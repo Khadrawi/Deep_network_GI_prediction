{
 "cells": [
  {
   "cell_type": "markdown",
   "id": "aa26bdc4-b234-45d5-a8fb-1d5835677173",
   "metadata": {
    "papermill": {
     "duration": 0.001131,
     "end_time": "2022-08-23T17:11:50.830740",
     "exception": false,
     "start_time": "2022-08-23T17:11:50.829609",
     "status": "completed"
    },
    "tags": []
   },
   "source": [
    "# import csv"
   ]
  },
  {
   "cell_type": "code",
   "execution_count": null,
   "id": "38c70ab1-bfdd-4639-bd43-52615143495b",
   "metadata": {
    "papermill": {
     "duration": 0.107379,
     "end_time": "2022-08-23T17:11:50.939220",
     "exception": false,
     "start_time": "2022-08-23T17:11:50.831841",
     "status": "completed"
    },
    "tags": []
   },
   "outputs": [],
   "source": [
    "# load file\n",
    "import pandas as pd\n",
    "\n",
    "df = pd.read_csv('summary.csv')\n",
    "\n",
    "print(len(df))\n",
    "print(df)"
   ]
  }
 ],
 "metadata": {
  "kernelspec": {
   "display_name": "Python 3 (ipykernel)",
   "language": "python",
   "name": "python3"
  },
  "language_info": {
   "codemirror_mode": {
    "name": "ipython",
    "version": 3
   },
   "file_extension": ".py",
   "mimetype": "text/x-python",
   "name": "python",
   "nbconvert_exporter": "python",
   "pygments_lexer": "ipython3",
   "version": "3.8.10"
  },
  "papermill": {
   "default_parameters": {},
   "duration": 1.789287,
   "end_time": "2022-08-23T17:11:51.202569",
   "environment_variables": {},
   "exception": null,
   "input_path": "1_templates/summary.ipynb",
   "output_path": "summary.ipynb",
   "parameters": {},
   "start_time": "2022-08-23T17:11:49.413282",
   "version": "2.3.3"
  },
  "toc-autonumbering": true
 },
 "nbformat": 4,
 "nbformat_minor": 5
}
